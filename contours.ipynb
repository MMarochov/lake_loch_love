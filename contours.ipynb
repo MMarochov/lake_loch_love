{
 "cells": [
  {
   "cell_type": "code",
   "execution_count": 7,
   "metadata": {},
   "outputs": [
    {
     "data": {
      "text/plain": [
       "True"
      ]
     },
     "execution_count": 7,
     "metadata": {},
     "output_type": "execute_result"
    }
   ],
   "source": [
    "\n",
    "import os\n",
    "import geopandas as gpd\n",
    "from shapely.geometry import box\n",
    "from osdatahub import FeaturesAPI, Extent\n",
    "import shapely\n",
    "import pandas as pd\n",
    "from os.path import join\n",
    "from dotenv import load_dotenv\n",
    "load_dotenv()"
   ]
  },
  {
   "cell_type": "code",
   "execution_count": 3,
   "metadata": {},
   "outputs": [],
   "source": [
    "BBOX = (54.2484,-3.3549, 55.0453, -1.3252)\n",
    "BBOX_CRS = 4326"
   ]
  },
  {
   "cell_type": "code",
   "execution_count": 18,
   "metadata": {},
   "outputs": [],
   "source": [
    "api_key = os.environ.get(\"OS_API_KEY\")\n",
    "extent = Extent.from_bbox(BBOX, \"EPSG:27700\")\n",
    "\n",
    "product = \"Zoomstack_NationalParks\"\n",
    "features = FeaturesAPI(api_key, product, extent)\n",
    "results = features.query()\n"
   ]
  },
  {
   "cell_type": "code",
   "execution_count": 19,
   "metadata": {},
   "outputs": [
    {
     "data": {
      "text/plain": [
       "{\"crs\": \"EPSG:27700\", \"features\": [], \"type\": \"FeatureCollection\"}"
      ]
     },
     "execution_count": 19,
     "metadata": {},
     "output_type": "execute_result"
    }
   ],
   "source": [
    "results"
   ]
  },
  {
   "cell_type": "code",
   "execution_count": null,
   "metadata": {},
   "outputs": [],
   "source": []
  }
 ],
 "metadata": {
  "kernelspec": {
   "display_name": "osdata-man",
   "language": "python",
   "name": "python3"
  },
  "language_info": {
   "codemirror_mode": {
    "name": "ipython",
    "version": 3
   },
   "file_extension": ".py",
   "mimetype": "text/x-python",
   "name": "python",
   "nbconvert_exporter": "python",
   "pygments_lexer": "ipython3",
   "version": "3.11.4 | packaged by conda-forge | (main, Jun 10 2023, 17:59:51) [MSC v.1935 64 bit (AMD64)]"
  },
  "orig_nbformat": 4,
  "vscode": {
   "interpreter": {
    "hash": "73741524b9b1ac93a453d7a09fbde417557092b0bea3e9eb12ba777937a4eb17"
   }
  }
 },
 "nbformat": 4,
 "nbformat_minor": 2
}
