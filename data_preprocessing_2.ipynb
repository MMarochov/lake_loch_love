{
 "cells": [
  {
   "cell_type": "code",
   "execution_count": 1,
   "metadata": {},
   "outputs": [],
   "source": [
    "# Imports\n",
    "from osdatahub import NGD, Extent\n",
    "import geopandas as gpd\n",
    "import os"
   ]
  },
  {
   "cell_type": "code",
   "execution_count": 2,
   "metadata": {},
   "outputs": [],
   "source": [
    "apiKey = os.environ.get(\"OS_API_KEY\")\n",
    "# bbox_oxford = (-1.499634,51.597127,-1.002502,51.881316)\n",
    "bbox_ox_27700 = (434219.1758, 189352.6604, 468215.9871, 221677.3266)\n",
    "extent = Extent.from_bbox(bbox_ox_27700, crs=\"EPSG:27700\")\n",
    "collection = \"wtr-ntwk-waterlink\"\n",
    "ngd = NGD(apiKey, collection)\n"
   ]
  },
  {
   "cell_type": "code",
   "execution_count": 3,
   "metadata": {},
   "outputs": [
    {
     "data": {
      "text/plain": [
       "Extent(polygon=Polygon([(468215.9871, 189352.6604), (468215.9871, 221677.3266), (434219.1758, 221677.3266), (434219.1758, 189352.6604), (468215.9871, 189352.6604)]),crs='EPSG:27700')"
      ]
     },
     "execution_count": 3,
     "metadata": {},
     "output_type": "execute_result"
    }
   ],
   "source": [
    "extent"
   ]
  },
  {
   "cell_type": "code",
   "execution_count": 4,
   "metadata": {},
   "outputs": [],
   "source": [
    "result = ngd.query(extent=extent, max_results=9000000000, crs=\"EPSG:27700\")"
   ]
  },
  {
   "cell_type": "code",
   "execution_count": 5,
   "metadata": {},
   "outputs": [
    {
     "data": {
      "text/plain": [
       "100"
      ]
     },
     "execution_count": 5,
     "metadata": {},
     "output_type": "execute_result"
    }
   ],
   "source": [
    "len(result['features'])"
   ]
  },
  {
   "cell_type": "code",
   "execution_count": null,
   "metadata": {},
   "outputs": [],
   "source": [
    "gdf = gpd.GeoDataFrame.from_features(result)\n",
    "gdf.head(3)"
   ]
  },
  {
   "cell_type": "code",
   "execution_count": null,
   "metadata": {},
   "outputs": [],
   "source": [
    "print(gdf.crs)"
   ]
  },
  {
   "cell_type": "code",
   "execution_count": null,
   "metadata": {},
   "outputs": [],
   "source": [
    "gdf.set_crs(27700, inplace=True)\n",
    "# gdf = gdf.set_crs(27700, allow_override=True)"
   ]
  },
  {
   "cell_type": "code",
   "execution_count": null,
   "metadata": {},
   "outputs": [],
   "source": [
    "gdf.to_file(\"oxfordfoo.shp\")"
   ]
  }
 ],
 "metadata": {
  "interpreter": {
   "hash": "caf466cb5a868482da13b80643109f8552b7a0587a4ae17d96af8319140d2d1a"
  },
  "kernelspec": {
   "display_name": "Python 3.10.5 ('green-energy')",
   "language": "python",
   "name": "python3"
  },
  "language_info": {
   "codemirror_mode": {
    "name": "ipython",
    "version": 3
   },
   "file_extension": ".py",
   "mimetype": "text/x-python",
   "name": "python",
   "nbconvert_exporter": "python",
   "pygments_lexer": "ipython3",
   "version": "3.10.5"
  },
  "orig_nbformat": 4
 },
 "nbformat": 4,
 "nbformat_minor": 2
}
