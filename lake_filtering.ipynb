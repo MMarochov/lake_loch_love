{
 "cells": [
  {
   "cell_type": "code",
   "execution_count": 1,
   "metadata": {},
   "outputs": [],
   "source": [
    "# Imports\n",
    "import pandas as pd\n",
    "import geopandas as gpd\n",
    "import numpy as np"
   ]
  },
  {
   "cell_type": "code",
   "execution_count": 2,
   "metadata": {},
   "outputs": [],
   "source": [
    "# Inputs\n",
    "country = 'eng'\n",
    "lake_number = 10\n",
    "lakes_full = f'output_data/union_lakes_{country}.gpkg'\n",
    "lakes_filtered = f'output_data/filtered_lakes_{country}_{lake_number}.gpkg'"
   ]
  },
  {
   "cell_type": "code",
   "execution_count": 3,
   "metadata": {},
   "outputs": [
    {
     "data": {
      "text/html": [
       "<div>\n",
       "<style scoped>\n",
       "    .dataframe tbody tr th:only-of-type {\n",
       "        vertical-align: middle;\n",
       "    }\n",
       "\n",
       "    .dataframe tbody tr th {\n",
       "        vertical-align: top;\n",
       "    }\n",
       "\n",
       "    .dataframe thead th {\n",
       "        text-align: right;\n",
       "    }\n",
       "</style>\n",
       "<table border=\"1\" class=\"dataframe\">\n",
       "  <thead>\n",
       "    <tr style=\"text-align: right;\">\n",
       "      <th></th>\n",
       "      <th>area</th>\n",
       "      <th>geometry</th>\n",
       "    </tr>\n",
       "  </thead>\n",
       "  <tbody>\n",
       "    <tr>\n",
       "      <th>0</th>\n",
       "      <td>9.226800</td>\n",
       "      <td>POLYGON ((88254.600 7676.490, 88254.550 7676.4...</td>\n",
       "    </tr>\n",
       "    <tr>\n",
       "      <th>1</th>\n",
       "      <td>10.710262</td>\n",
       "      <td>POLYGON ((88012.334 8090.521, 88012.608 8090.2...</td>\n",
       "    </tr>\n",
       "  </tbody>\n",
       "</table>\n",
       "</div>"
      ],
      "text/plain": [
       "        area                                           geometry\n",
       "0   9.226800  POLYGON ((88254.600 7676.490, 88254.550 7676.4...\n",
       "1  10.710262  POLYGON ((88012.334 8090.521, 88012.608 8090.2..."
      ]
     },
     "execution_count": 3,
     "metadata": {},
     "output_type": "execute_result"
    }
   ],
   "source": [
    "gdf = gpd.read_file(lakes_full)\n",
    "gdf.head(2)"
   ]
  },
  {
   "cell_type": "code",
   "execution_count": 4,
   "metadata": {},
   "outputs": [],
   "source": [
    "gdf.sort_values('area', ascending=False, inplace=True)"
   ]
  },
  {
   "cell_type": "code",
   "execution_count": 5,
   "metadata": {},
   "outputs": [
    {
     "data": {
      "text/html": [
       "<div>\n",
       "<style scoped>\n",
       "    .dataframe tbody tr th:only-of-type {\n",
       "        vertical-align: middle;\n",
       "    }\n",
       "\n",
       "    .dataframe tbody tr th {\n",
       "        vertical-align: top;\n",
       "    }\n",
       "\n",
       "    .dataframe thead th {\n",
       "        text-align: right;\n",
       "    }\n",
       "</style>\n",
       "<table border=\"1\" class=\"dataframe\">\n",
       "  <thead>\n",
       "    <tr style=\"text-align: right;\">\n",
       "      <th></th>\n",
       "      <th>area</th>\n",
       "      <th>geometry</th>\n",
       "    </tr>\n",
       "  </thead>\n",
       "  <tbody>\n",
       "    <tr>\n",
       "      <th>46687</th>\n",
       "      <td>1.472292e+07</td>\n",
       "      <td>POLYGON ((336513.690 502293.720, 336514.790 50...</td>\n",
       "    </tr>\n",
       "    <tr>\n",
       "      <th>302071</th>\n",
       "      <td>1.128321e+07</td>\n",
       "      <td>POLYGON ((489855.880 309279.980, 489862.980 30...</td>\n",
       "    </tr>\n",
       "    <tr>\n",
       "      <th>108331</th>\n",
       "      <td>1.021929e+07</td>\n",
       "      <td>POLYGON ((364756.500 591163.000, 364768.000 59...</td>\n",
       "    </tr>\n",
       "    <tr>\n",
       "      <th>50949</th>\n",
       "      <td>8.820885e+06</td>\n",
       "      <td>POLYGON ((339261.820 516564.380, 339260.810 51...</td>\n",
       "    </tr>\n",
       "    <tr>\n",
       "      <th>327582</th>\n",
       "      <td>6.259242e+06</td>\n",
       "      <td>POLYGON ((513140.800 269351.600, 513139.800 26...</td>\n",
       "    </tr>\n",
       "    <tr>\n",
       "      <th>425445</th>\n",
       "      <td>6.147913e+06</td>\n",
       "      <td>POLYGON ((599004.875 219712.003, 599004.412 21...</td>\n",
       "    </tr>\n",
       "    <tr>\n",
       "      <th>36156</th>\n",
       "      <td>5.264958e+06</td>\n",
       "      <td>POLYGON ((325344.360 520427.860, 325345.360 52...</td>\n",
       "    </tr>\n",
       "    <tr>\n",
       "      <th>31847</th>\n",
       "      <td>5.070066e+06</td>\n",
       "      <td>POLYGON ((320329.100 530865.765, 320326.719 53...</td>\n",
       "    </tr>\n",
       "    <tr>\n",
       "      <th>38104</th>\n",
       "      <td>4.747363e+06</td>\n",
       "      <td>POLYGON ((329209.849 490276.176, 329209.905 49...</td>\n",
       "    </tr>\n",
       "    <tr>\n",
       "      <th>83128</th>\n",
       "      <td>4.373670e+06</td>\n",
       "      <td>POLYGON ((357271.240 161443.610, 357276.270 16...</td>\n",
       "    </tr>\n",
       "  </tbody>\n",
       "</table>\n",
       "</div>"
      ],
      "text/plain": [
       "                area                                           geometry\n",
       "46687   1.472292e+07  POLYGON ((336513.690 502293.720, 336514.790 50...\n",
       "302071  1.128321e+07  POLYGON ((489855.880 309279.980, 489862.980 30...\n",
       "108331  1.021929e+07  POLYGON ((364756.500 591163.000, 364768.000 59...\n",
       "50949   8.820885e+06  POLYGON ((339261.820 516564.380, 339260.810 51...\n",
       "327582  6.259242e+06  POLYGON ((513140.800 269351.600, 513139.800 26...\n",
       "425445  6.147913e+06  POLYGON ((599004.875 219712.003, 599004.412 21...\n",
       "36156   5.264958e+06  POLYGON ((325344.360 520427.860, 325345.360 52...\n",
       "31847   5.070066e+06  POLYGON ((320329.100 530865.765, 320326.719 53...\n",
       "38104   4.747363e+06  POLYGON ((329209.849 490276.176, 329209.905 49...\n",
       "83128   4.373670e+06  POLYGON ((357271.240 161443.610, 357276.270 16..."
      ]
     },
     "execution_count": 5,
     "metadata": {},
     "output_type": "execute_result"
    }
   ],
   "source": [
    "gdf.head(10)"
   ]
  },
  {
   "cell_type": "code",
   "execution_count": 7,
   "metadata": {},
   "outputs": [
    {
     "data": {
      "text/html": [
       "<div>\n",
       "<style scoped>\n",
       "    .dataframe tbody tr th:only-of-type {\n",
       "        vertical-align: middle;\n",
       "    }\n",
       "\n",
       "    .dataframe tbody tr th {\n",
       "        vertical-align: top;\n",
       "    }\n",
       "\n",
       "    .dataframe thead th {\n",
       "        text-align: right;\n",
       "    }\n",
       "</style>\n",
       "<table border=\"1\" class=\"dataframe\">\n",
       "  <thead>\n",
       "    <tr style=\"text-align: right;\">\n",
       "      <th></th>\n",
       "      <th>area</th>\n",
       "      <th>geometry</th>\n",
       "    </tr>\n",
       "  </thead>\n",
       "  <tbody>\n",
       "    <tr>\n",
       "      <th>46687</th>\n",
       "      <td>1.472292e+07</td>\n",
       "      <td>POLYGON ((336513.690 502293.720, 336514.790 50...</td>\n",
       "    </tr>\n",
       "    <tr>\n",
       "      <th>302071</th>\n",
       "      <td>1.128321e+07</td>\n",
       "      <td>POLYGON ((489855.880 309279.980, 489862.980 30...</td>\n",
       "    </tr>\n",
       "    <tr>\n",
       "      <th>108331</th>\n",
       "      <td>1.021929e+07</td>\n",
       "      <td>POLYGON ((364756.500 591163.000, 364768.000 59...</td>\n",
       "    </tr>\n",
       "    <tr>\n",
       "      <th>50949</th>\n",
       "      <td>8.820885e+06</td>\n",
       "      <td>POLYGON ((339261.820 516564.380, 339260.810 51...</td>\n",
       "    </tr>\n",
       "    <tr>\n",
       "      <th>327582</th>\n",
       "      <td>6.259242e+06</td>\n",
       "      <td>POLYGON ((513140.800 269351.600, 513139.800 26...</td>\n",
       "    </tr>\n",
       "    <tr>\n",
       "      <th>425445</th>\n",
       "      <td>6.147913e+06</td>\n",
       "      <td>POLYGON ((599004.875 219712.003, 599004.412 21...</td>\n",
       "    </tr>\n",
       "    <tr>\n",
       "      <th>36156</th>\n",
       "      <td>5.264958e+06</td>\n",
       "      <td>POLYGON ((325344.360 520427.860, 325345.360 52...</td>\n",
       "    </tr>\n",
       "    <tr>\n",
       "      <th>31847</th>\n",
       "      <td>5.070066e+06</td>\n",
       "      <td>POLYGON ((320329.100 530865.765, 320326.719 53...</td>\n",
       "    </tr>\n",
       "    <tr>\n",
       "      <th>38104</th>\n",
       "      <td>4.747363e+06</td>\n",
       "      <td>POLYGON ((329209.849 490276.176, 329209.905 49...</td>\n",
       "    </tr>\n",
       "    <tr>\n",
       "      <th>83128</th>\n",
       "      <td>4.373670e+06</td>\n",
       "      <td>POLYGON ((357271.240 161443.610, 357276.270 16...</td>\n",
       "    </tr>\n",
       "  </tbody>\n",
       "</table>\n",
       "</div>"
      ],
      "text/plain": [
       "                area                                           geometry\n",
       "46687   1.472292e+07  POLYGON ((336513.690 502293.720, 336514.790 50...\n",
       "302071  1.128321e+07  POLYGON ((489855.880 309279.980, 489862.980 30...\n",
       "108331  1.021929e+07  POLYGON ((364756.500 591163.000, 364768.000 59...\n",
       "50949   8.820885e+06  POLYGON ((339261.820 516564.380, 339260.810 51...\n",
       "327582  6.259242e+06  POLYGON ((513140.800 269351.600, 513139.800 26...\n",
       "425445  6.147913e+06  POLYGON ((599004.875 219712.003, 599004.412 21...\n",
       "36156   5.264958e+06  POLYGON ((325344.360 520427.860, 325345.360 52...\n",
       "31847   5.070066e+06  POLYGON ((320329.100 530865.765, 320326.719 53...\n",
       "38104   4.747363e+06  POLYGON ((329209.849 490276.176, 329209.905 49...\n",
       "83128   4.373670e+06  POLYGON ((357271.240 161443.610, 357276.270 16..."
      ]
     },
     "execution_count": 7,
     "metadata": {},
     "output_type": "execute_result"
    }
   ],
   "source": [
    "gdf_filtered = gdf[:lake_number]\n",
    "gdf_filtered"
   ]
  }
 ],
 "metadata": {
  "interpreter": {
   "hash": "caf466cb5a868482da13b80643109f8552b7a0587a4ae17d96af8319140d2d1a"
  },
  "kernelspec": {
   "display_name": "Python 3.10.5 ('green-energy')",
   "language": "python",
   "name": "python3"
  },
  "language_info": {
   "codemirror_mode": {
    "name": "ipython",
    "version": 3
   },
   "file_extension": ".py",
   "mimetype": "text/x-python",
   "name": "python",
   "nbconvert_exporter": "python",
   "pygments_lexer": "ipython3",
   "version": "3.10.5"
  },
  "orig_nbformat": 4
 },
 "nbformat": 4,
 "nbformat_minor": 2
}
